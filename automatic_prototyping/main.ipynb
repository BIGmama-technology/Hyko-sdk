{
 "cells": [
  {
   "cell_type": "code",
   "execution_count": 1,
   "metadata": {},
   "outputs": [],
   "source": [
    "%load_ext autoreload\n",
    "%autoreload 2"
   ]
  },
  {
   "attachments": {},
   "cell_type": "markdown",
   "metadata": {},
   "source": [
    "## sample model db"
   ]
  },
  {
   "cell_type": "code",
   "execution_count": 2,
   "metadata": {},
   "outputs": [],
   "source": [
    "from src.openai.requests import input_description, output_description\n",
    "import pandas as pd"
   ]
  },
  {
   "cell_type": "code",
   "execution_count": 3,
   "metadata": {},
   "outputs": [],
   "source": [
    "data = pd.read_json(path_or_buf=\"data/huggingface_models.jsonl\", lines=True)\n",
    "model_db = data[[\"id\",\"task\",\"description\"]].sample(10)"
   ]
  },
  {
   "cell_type": "code",
   "execution_count": null,
   "metadata": {},
   "outputs": [],
   "source": [
    "model_db[\"input_desc\"] = model_db.description.apply(input_description)"
   ]
  },
  {
   "cell_type": "code",
   "execution_count": null,
   "metadata": {},
   "outputs": [],
   "source": [
    "model_db[\"output_desc\"] = model_db.description.apply(output_description)"
   ]
  },
  {
   "cell_type": "code",
   "execution_count": null,
   "metadata": {},
   "outputs": [],
   "source": [
    "# save to json\n",
    "model_db.to_json(\"data/model_db.json\", orient=\"records\")"
   ]
  },
  {
   "attachments": {},
   "cell_type": "markdown",
   "metadata": {},
   "source": [
    "## task planning"
   ]
  },
  {
   "cell_type": "code",
   "execution_count": 5,
   "metadata": {},
   "outputs": [],
   "source": [
    "from src.openai.requests import zero_shot_task_planning"
   ]
  },
  {
   "cell_type": "code",
   "execution_count": 6,
   "metadata": {},
   "outputs": [],
   "source": [
    "zero_task_plan = zero_shot_task_planning(\"a model that takes as input text from user change it to a poem and classify it as positive emotion or negative emotion\")"
   ]
  },
  {
   "cell_type": "code",
   "execution_count": 7,
   "metadata": {},
   "outputs": [],
   "source": [
    "final = eval(zero_task_plan)"
   ]
  },
  {
   "cell_type": "code",
   "execution_count": 8,
   "metadata": {},
   "outputs": [
    {
     "data": {
      "text/plain": [
       "[{'task_id': 'task_1',\n",
       "  'task': 'text-classification',\n",
       "  'task_description': 'Classify user input as positive or negative emotion.',\n",
       "  'dep': [],\n",
       "  'inputs': [{'id': 'input_1',\n",
       "    'input_type': 'text',\n",
       "    'input_description': 'User provided text.'}],\n",
       "  'outputs': [{'id': 'output_1',\n",
       "    'output_type': 'text',\n",
       "    'output_description': 'Class of sentiment'}]},\n",
       " {'task_id': 'task_2',\n",
       "  'task': 'text2text-generation',\n",
       "  'task_description': 'Convert user input to a poem.',\n",
       "  'dep': ['task_1'],\n",
       "  'inputs': [{'id': 'input_2',\n",
       "    'input_type': 'text',\n",
       "    'input_description': 'User provided text.'}],\n",
       "  'outputs': [{'id': 'output_2',\n",
       "    'output_type': 'text',\n",
       "    'output_description': 'Poem generated.'}]},\n",
       " {'task_id': 'task_3',\n",
       "  'task': 'text-classification',\n",
       "  'task_description': 'Classify poem as positive or negative emotion.',\n",
       "  'dep': ['task_2'],\n",
       "  'inputs': [{'id': 'input_3',\n",
       "    'input_type': 'text',\n",
       "    'input_description': 'Poem generated.'}],\n",
       "  'outputs': [{'id': 'output_3',\n",
       "    'output_type': 'text',\n",
       "    'output_description': 'Class of sentiment'}]}]"
      ]
     },
     "execution_count": 8,
     "metadata": {},
     "output_type": "execute_result"
    }
   ],
   "source": [
    "final"
   ]
  },
  {
   "attachments": {},
   "cell_type": "markdown",
   "metadata": {},
   "source": [
    "## input modeling"
   ]
  },
  {
   "cell_type": "code",
   "execution_count": 15,
   "metadata": {},
   "outputs": [],
   "source": [
    "test = \"\"\"\n",
    "we need to make it easy for our employees to add and edit regulations. \n",
    "Adding a new regulation requires mutiple checks across thousands of pages of already existing regulations. \n",
    "During these checks (which takes months) emplyees look for conflicting regulations made earlier, \n",
    "loop holes and blind spots.\n",
    "find the relevent regulations, paragraphs and articles to the request\n",
    "check if a conflict occurs\n",
    "explain the conflict occuring\n",
    "\"\"\""
   ]
  },
  {
   "cell_type": "code",
   "execution_count": 16,
   "metadata": {},
   "outputs": [],
   "source": [
    "test_task_plan= zero_shot_task_planning(test)"
   ]
  },
  {
   "cell_type": "code",
   "execution_count": 17,
   "metadata": {},
   "outputs": [
    {
     "data": {
      "text/plain": [
       "{'tasks': [{'task_id': 1,\n",
       "   'task': 'convert-pdf-to-text',\n",
       "   'task_description': 'Convert existing regulations in pdf format into a text format.',\n",
       "   'dep': [],\n",
       "   'inputs': [{'id': 1,\n",
       "     'input_type': 'pdf',\n",
       "     'input_description': 'List of regulations in pdf format.'}],\n",
       "   'outputs': [{'id': 2,\n",
       "     'output_type': 'txt',\n",
       "     'output_description': 'List of regulations in text format.'}]},\n",
       "  {'task_id': 2,\n",
       "   'task': 'text2text-generation',\n",
       "   'task_description': 'Find the relevant paragraphs and articles based on the user request.',\n",
       "   'dep': [1],\n",
       "   'inputs': [{'id': 2,\n",
       "     'input_type': 'txt',\n",
       "     'input_description': 'List of regulations in text format.'}],\n",
       "   'outputs': [{'id': 3,\n",
       "     'output_type': 'txt',\n",
       "     'output_description': 'List of relevant paragraphs and articles.'}]},\n",
       "  {'task_id': 3,\n",
       "   'task': 'text2text-generation',\n",
       "   'task_description': 'Check if any conflicts occur among the relevant paragraphs and articles.',\n",
       "   'dep': [2],\n",
       "   'inputs': [{'id': 3,\n",
       "     'input_type': 'txt',\n",
       "     'input_description': 'List of relevant paragraphs and articles.'}],\n",
       "   'outputs': [{'id': 4,\n",
       "     'output_type': 'txt',\n",
       "     'output_description': 'Explanation of any conflicts occurring.'}]}]}"
      ]
     },
     "execution_count": 17,
     "metadata": {},
     "output_type": "execute_result"
    }
   ],
   "source": [
    "final = eval(test_task_plan)\n",
    "final"
   ]
  },
  {
   "cell_type": "code",
   "execution_count": null,
   "metadata": {},
   "outputs": [],
   "source": [
    "# subject:str, task:str, description:str, inputs:dict, outputs:dict\n",
    "def problem(**kwargs):\n",
    "    return str(kwargs)"
   ]
  },
  {
   "cell_type": "code",
   "execution_count": null,
   "metadata": {},
   "outputs": [],
   "source": [
    "problem_1 = problem(subject=\"document embedding\", \n",
    "        task=\"text splitting\", \n",
    "        description=\"divide text into chunks\", \n",
    "        inputs=\"[document text : str]\", \n",
    "        outputs=\"[list of sentences : list[str]]\")\n",
    "\n",
    "problem_2 = problem(subject=\"document embedding\", \n",
    "        task=\"text splitting\", \n",
    "        description=\"divide text into chunks\", \n",
    "        inputs=\"[document text : str]\", \n",
    "        outputs=\"[list of sentences : list[str]]\")"
   ]
  },
  {
   "cell_type": "code",
   "execution_count": null,
   "metadata": {},
   "outputs": [],
   "source": [
    "problems = [\n",
    "\"\"\"\n",
    "{\"subject\" : document embedding\n",
    "task : text splitting\n",
    "description : divide text into chunks\n",
    "inputs : [document text : str]\n",
    "output : list of sentences : list[str]}\n",
    "\"\"\",\n",
    "\"\"\"\n",
    "\"subject\" : document embedding\n",
    "task : pdf to text\n",
    "description : turn the pdf into text while ignoring images\n",
    "inputs : [input documentation pdf : pdf]\n",
    "output : document text : str\n",
    "\"\"\",\n",
    "\"\"\"\n",
    "\"subject\" : document embedding\n",
    "task : sentence embedding\n",
    "description : embed each sentence\n",
    "inputs : [list of sentences : list[str]]\n",
    "output : list of list of embeddings and list of sentences : list[list[str], list[float]]] \n",
    "\"\"\"]\n"
   ]
  },
  {
   "attachments": {},
   "cell_type": "markdown",
   "metadata": {},
   "source": [
    "## model selection"
   ]
  },
  {
   "cell_type": "code",
   "execution_count": 31,
   "metadata": {},
   "outputs": [],
   "source": [
    "from src.model_selection.model_selection import SemanticSearchEngine\n",
    "from src.examples.test_task_plans import test_task_plan_1, test_task_plan_2, test_task_plan_3\n",
    "from src.utils.utils import read_json"
   ]
  },
  {
   "cell_type": "code",
   "execution_count": 10,
   "metadata": {},
   "outputs": [],
   "source": [
    "model_db = read_json(\"data/model_db.json\")"
   ]
  },
  {
   "cell_type": "code",
   "execution_count": 13,
   "metadata": {},
   "outputs": [
    {
     "data": {
      "text/plain": [
       "[{'id': 't1',\n",
       "  'task': 'Convert regulations into searchable format',\n",
       "  'task_description': 'Transform the existing regulations into a searchable format (e.g. text, pdf, etc.) that can be easily queried by other tasks',\n",
       "  'dep': [],\n",
       "  'inputs': [{'id': 'i1',\n",
       "    'input_type': 'pdf',\n",
       "    'input_description': 'Existing regulations in PDF format'}],\n",
       "  'outputs': [{'id': 'o1',\n",
       "    'output_type': 'text',\n",
       "    'output_description': 'Regulations in searchable text format'}]},\n",
       " {'id': 't2',\n",
       "  'task': 'Retrieve relevant regulations',\n",
       "  'task_description': \"Find the relevant regulations, paragraphs, and articles based on the user's request\",\n",
       "  'dep': ['t1'],\n",
       "  'inputs': [{'id': 'i2',\n",
       "    'input_type': 'text',\n",
       "    'input_description': \"User's request text\"}],\n",
       "  'outputs': [{'id': 'o2',\n",
       "    'output_type': 'text',\n",
       "    'output_description': 'List of relevant regulations, paragraphs, and articles in text format'}]},\n",
       " {'id': 't3',\n",
       "  'task': 'Check for conflicts',\n",
       "  'task_description': \"Identify potential conflicts between the existing regulations and the user's request\",\n",
       "  'dep': ['t2'],\n",
       "  'inputs': [{'id': 'i3_1',\n",
       "    'input_type': 'text',\n",
       "    'input_description': \"User's request text\"},\n",
       "   {'id': 'i3_2',\n",
       "    'input_type': 'text',\n",
       "    'input_description': 'List of relevant regulations, paragraphs, and articles in text format from task 2'}],\n",
       "  'outputs': [{'id': 'o3_1',\n",
       "    'output_type': 'text',\n",
       "    'output_description': 'List of potential conflicts in text format'},\n",
       "   {'id': 'o3_2',\n",
       "    'output_type': 'text',\n",
       "    'output_description': 'Explanation of each conflict in text format'}]}]"
      ]
     },
     "execution_count": 13,
     "metadata": {},
     "output_type": "execute_result"
    }
   ],
   "source": [
    "test_task_plan_2"
   ]
  },
  {
   "cell_type": "code",
   "execution_count": 20,
   "metadata": {},
   "outputs": [],
   "source": [
    "final = final['tasks']"
   ]
  },
  {
   "cell_type": "code",
   "execution_count": 33,
   "metadata": {},
   "outputs": [
    {
     "data": {
      "text/plain": [
       "[{'task_id': 1,\n",
       "  'task': 'convert-pdf-to-text',\n",
       "  'task_description': 'Convert existing regulations in pdf format into a text format.',\n",
       "  'dep': [],\n",
       "  'inputs': [{'id': 1,\n",
       "    'input_type': 'pdf',\n",
       "    'input_description': 'List of regulations in pdf format.'}],\n",
       "  'outputs': [{'id': 2,\n",
       "    'output_type': 'txt',\n",
       "    'output_description': 'List of regulations in text format.'}]},\n",
       " {'task_id': 2,\n",
       "  'task': 'text2text-generation',\n",
       "  'task_description': 'Find the relevant paragraphs and articles based on the user request.',\n",
       "  'dep': [1],\n",
       "  'inputs': [{'id': 2,\n",
       "    'input_type': 'txt',\n",
       "    'input_description': 'List of regulations in text format.'}],\n",
       "  'outputs': [{'id': 3,\n",
       "    'output_type': 'txt',\n",
       "    'output_description': 'List of relevant paragraphs and articles.'}]},\n",
       " {'task_id': 3,\n",
       "  'task': 'text2text-generation',\n",
       "  'task_description': 'Check if any conflicts occur among the relevant paragraphs and articles.',\n",
       "  'dep': [2],\n",
       "  'inputs': [{'id': 3,\n",
       "    'input_type': 'txt',\n",
       "    'input_description': 'List of relevant paragraphs and articles.'}],\n",
       "  'outputs': [{'id': 4,\n",
       "    'output_type': 'txt',\n",
       "    'output_description': 'Explanation of any conflicts occurring.'}]}]"
      ]
     },
     "execution_count": 33,
     "metadata": {},
     "output_type": "execute_result"
    }
   ],
   "source": [
    "final"
   ]
  },
  {
   "cell_type": "code",
   "execution_count": 32,
   "metadata": {},
   "outputs": [
    {
     "data": {
      "text/plain": [
       "[['tuner007/pegasus_summarizer',\n",
       "  'bigscience/bloom',\n",
       "  'facebook/textless_sm_it_fr',\n",
       "  'cafeai/cafe_aesthetic',\n",
       "  'tufa15nik/vilt-finetuned-vqasi'],\n",
       " ['tuner007/pegasus_summarizer',\n",
       "  'facebook/textless_sm_it_fr',\n",
       "  'bigscience/bloom',\n",
       "  'cafeai/cafe_aesthetic',\n",
       "  'tufa15nik/vilt-finetuned-vqasi'],\n",
       " ['bigscience/bloom',\n",
       "  'facebook/textless_sm_it_fr',\n",
       "  'tufa15nik/vilt-finetuned-vqasi',\n",
       "  'tuner007/pegasus_summarizer',\n",
       "  'cafeai/cafe_aesthetic']]"
      ]
     },
     "execution_count": 32,
     "metadata": {},
     "output_type": "execute_result"
    }
   ],
   "source": [
    "se = SemanticSearchEngine()\n",
    "se.forward(model_db=model_db, task_db=final)"
   ]
  }
 ],
 "metadata": {
  "kernelspec": {
   "display_name": "hugging_gpt",
   "language": "python",
   "name": "python3"
  },
  "language_info": {
   "codemirror_mode": {
    "name": "ipython",
    "version": 3
   },
   "file_extension": ".py",
   "mimetype": "text/x-python",
   "name": "python",
   "nbconvert_exporter": "python",
   "pygments_lexer": "ipython3",
   "version": "3.8.10"
  },
  "orig_nbformat": 4
 },
 "nbformat": 4,
 "nbformat_minor": 2
}
